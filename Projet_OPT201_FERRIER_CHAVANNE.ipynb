{
 "cells": [
  {
   "cell_type": "markdown",
   "metadata": {},
   "source": [
    "# Numerical project in Python\n",
    "\n",
    "We will consider the problem of finding the static equilibrium of a chain formed by rigid bars in 2D.\n",
    "This will be found via an optimization problem with equality constraints."
   ]
  },
  {
   "cell_type": "code",
   "execution_count": 1,
   "metadata": {},
   "outputs": [],
   "source": [
    "import numpy as np\n",
    "import matplotlib.pyplot as plt\n",
    "import cvxpy as cp"
   ]
  },
  {
   "cell_type": "markdown",
   "metadata": {},
   "source": [
    "## Question 2\n",
    "\n",
    "Python function that given $z$ as an imput, returns :\n",
    "\n",
    "$$\n",
    "c(z) = (c_1 (z) , \\ldots , c_{N+1} (z) ) = (l_{i}(x, y)^{2}-L^{2} = \\bigl(  (x_{i}-x_{i-1})^{2}+(y_{i}-y_{i-1})^{2}-L^{2} \\, , \\, i \\in [ 1 , \\ldots , N+1 ] \\bigr)\n",
    "$$"
   ]
  },
  {
   "cell_type": "code",
   "execution_count": 2,
   "metadata": {},
   "outputs": [],
   "source": [
    "L=2"
   ]
  },
  {
   "cell_type": "code",
   "execution_count": 3,
   "metadata": {},
   "outputs": [],
   "source": [
    "def c(z):\n",
    "    N=np.len(z)/2\n",
    "    x=z[0:N:1]\n",
    "    y=z[N:2*N:1]\n",
    "    c=np.zeros((N+1,1))\n",
    "    c[0] = (x[0])**2+(y[0])**2 - L**2\n",
    "    for i in range(1,N)\n",
    "        l=(x[i]-x[i-1])**2+(y[i]-y[i-1])**2 - L**2\n",
    "    c[N+1] = (a-x[N-1])**2+(b-y[N-1])**2 - L**2\n",
    "    return c\n",
    "    "
   ]
  },
  {
   "cell_type": "markdown",
   "metadata": {},
   "source": [
    "## Question 3\n",
    "\n",
    "Python function that given $z$ as an imput, return $\\sum_i y_i$.\n",
    "\n",
    "To do so, we compute a $e = (0 , \\ldots , 0 , 1 , \\ldots , 1)$ $2n$-array, and we comput the dot product of $e . z$ ."
   ]
  },
  {
   "cell_type": "code",
   "execution_count": 4,
   "metadata": {},
   "outputs": [],
   "source": [
    "def e(z):\n",
    "    N=np.len(z)/2\n",
    "    e=np.zeros(2*N)\n",
    "    e[N:2*N:1]=np.ones(N)\n",
    "    return e"
   ]
  },
  {
   "cell_type": "code",
   "execution_count": 5,
   "metadata": {},
   "outputs": [],
   "source": [
    "def cost(z):\n",
    "    return np.dot(e(z), z)"
   ]
  },
  {
   "cell_type": "markdown",
   "metadata": {},
   "source": [
    "## Question 4\n",
    "\n",
    "Python function that returns the lagrangian of the systeme, given $z$ and $\\lambda$ as an imput.\n",
    "\n",
    "To do so we write the Lagrangian as :\n",
    "\n",
    "$$\n",
    "\\mathcal{L}(z, \\lambda)=e^{\\top} z+\\lambda^{\\top} c(z)\n",
    "$$"
   ]
  },
  {
   "cell_type": "code",
   "execution_count": 6,
   "metadata": {},
   "outputs": [],
   "source": [
    "def lag(z,l):\n",
    "    e=e(z)\n",
    "    return np.transpose(e)*z + np.transpose(l)*c(z)"
   ]
  },
  {
   "cell_type": "markdown",
   "metadata": {},
   "source": [
    "## Question 5\n",
    "\n",
    "Python function, that given $z$, $\\lambda$ as an imput, yields $\\nabla_z \\mathcal{L}(z, \\lambda)$.\n",
    "\n",
    "As shown in the report : \n",
    "$$\n",
    "\\nabla_{z} \\mathcal{L}(z, \\lambda)=e+\\nabla_{z}^{\\top} c(z) \\lambda \\in \\mathbf{R}^{2 N}\n",
    "$$\n",
    "\n",
    "where the Jacobian of c is :\n",
    "$$\n",
    "\\nabla_{z}^{\\top} c(z)=\\left[\\begin{array}{ccc}\n",
    "\\nabla_{x_{1}} c_{1}(x, y) & \\ldots & \\nabla_{x_{1}} c_{N+1}(x, y) \\\\\n",
    "\\nabla_{x_{2}} c_{1}(x, y) & \\ldots & \\nabla_{x_{2}} c_{N+1}(x, y) \\\\\n",
    "\\vdots & \\vdots & \\vdots \\\\\n",
    "\\nabla_{x_{N}} c_{1}(x, y) & \\ldots & \\nabla_{x_{N}} c_{N+1}(x, y) \\\\\n",
    "\\hline \\nabla_{y_{1}} c_{1}(x, y) & \\ldots & \\nabla_{y_{1}} c_{N+1}(x, y) \\\\\n",
    "\\nabla_{y_{2}} c_{1}(x, y) & \\ldots & \\nabla_{y_{2}} c_{N+1}(x, y) \\\\\n",
    "\\vdots & \\vdots & \\vdots \\\\\n",
    "\\nabla_{y_{N}} c_{1}(x, y) & \\ldots & \\nabla_{y_{N}} c_{N+1}(x, y)\n",
    "\\end{array}\\right] \\in \\mathbf{R}^{2 N \\times N+1}\n",
    "$$\n",
    "\n",
    "First lets compute this Jacobian matrix :"
   ]
  },
  {
   "cell_type": "code",
   "execution_count": 10,
   "metadata": {},
   "outputs": [],
   "source": [
    "def cjac(z):\n",
    "    N=np.len(z)/2\n",
    "    cjac=np.zeros(2*N, N+1)\n",
    "    cjac[0,0] = 2*z[0]\n",
    "    cjac[N,0] = 2*z[N]\n",
    "    cjac[N-1,N] = 2*(z[N-1]-a)\n",
    "    cjac[2*n-1,N] = 2*(z[N-1]-b)\n",
    "    for j in range(1,N):\n",
    "        temp = 2*(z[j]-z[j-1])\n",
    "        cjac[j,j-1] = -temp\n",
    "        cjac[j,j] = temp\n",
    "        temp = 2*(z[N+j]-z[N+j-1])\n",
    "        cjac[j,N+j-1] = -temp\n",
    "        cjac[j,N+j] = temp\n",
    "    return cjac"
   ]
  },
  {
   "cell_type": "markdown",
   "metadata": {},
   "source": [
    "We deduce the gradient of the Lagrangian by the quick vectorial calculation above"
   ]
  },
  {
   "cell_type": "code",
   "execution_count": 13,
   "metadata": {},
   "outputs": [],
   "source": [
    "def gradlag(z,l):\n",
    "    e=e(z)\n",
    "    cjac = cjac(z)\n",
    "    return e + np.dot(cjac,l)"
   ]
  },
  {
   "cell_type": "markdown",
   "metadata": {},
   "source": [
    "This function also check that the derivatives are correct, by checking that :\n",
    "$$\n",
    "\\frac{\\left\\|c(z+\\delta)-c(z)-\\nabla_{z} c(z) \\delta\\right\\|}{\\|\\delta\\|} \\leq 0.01\n",
    "$$\n",
    "\n",
    "for a small random perturbation $\\delta$."
   ]
  },
  {
   "cell_type": "code",
   "execution_count": 15,
   "metadata": {},
   "outputs": [],
   "source": [
    "def checkcjac(z,delta):\n",
    "    cpert = c(z+delta)\n",
    "    c = c(z)\n",
    "    cjac_delta = np.dot(cjac(z), delta)\n",
    "    n1 = np.linlag.norm(cpert - c - cjac_delta)\n",
    "    n2 = np.linlag.norm(delta)\n",
    "    if n1/n2 < 0.01:\n",
    "        return true\n",
    "    return false"
   ]
  },
  {
   "cell_type": "code",
   "execution_count": null,
   "metadata": {},
   "outputs": [],
   "source": []
  }
 ],
 "metadata": {
  "kernelspec": {
   "display_name": "Python 3",
   "language": "python",
   "name": "python3"
  },
  "language_info": {
   "codemirror_mode": {
    "name": "ipython",
    "version": 3
   },
   "file_extension": ".py",
   "mimetype": "text/x-python",
   "name": "python",
   "nbconvert_exporter": "python",
   "pygments_lexer": "ipython3",
   "version": "3.8.3"
  }
 },
 "nbformat": 4,
 "nbformat_minor": 4
}
